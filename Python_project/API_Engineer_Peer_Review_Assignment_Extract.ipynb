{
  "cells": [
    {
      "cell_type": "markdown",
      "metadata": {
        "id": "view-in-github",
        "colab_type": "text"
      },
      "source": [
        "<a href=\"https://colab.research.google.com/github/anastasiiaf/ibm_data_engineering/blob/main/API_Engineer_Peer_Review_Assignment_Extract.ipynb\" target=\"_parent\"><img src=\"https://colab.research.google.com/assets/colab-badge.svg\" alt=\"Open In Colab\"/></a>"
      ]
    },
    {
      "cell_type": "markdown",
      "metadata": {
        "id": "SkTeolVzOwsn"
      },
      "source": [
        "<center>\n",
        "    <img src=\"https://gitlab.com/ibm/skills-network/courses/placeholder101/-/raw/master/labs/module%201/images/IDSNlogo.png\" width=\"300\" alt=\"cognitiveclass.ai logo\"  />\n",
        "</center>\n"
      ]
    },
    {
      "cell_type": "markdown",
      "metadata": {
        "id": "-9zYzFRHOws_"
      },
      "source": [
        "# Peer Review Assignment - Data Engineer - Extract API Data\n"
      ]
    },
    {
      "cell_type": "markdown",
      "metadata": {
        "id": "EWPKXZkcOwtD"
      },
      "source": [
        "Estimated time needed: **20** minutes\n"
      ]
    },
    {
      "cell_type": "markdown",
      "metadata": {
        "id": "QLa_onL8OwtH"
      },
      "source": [
        "## Objectives\n",
        "\n",
        "In this part you will:\n",
        "\n",
        "*   Collect exchange rate data using an API\n",
        "*   Store the data as a CSV\n"
      ]
    },
    {
      "cell_type": "markdown",
      "metadata": {
        "id": "vmTYgchWOwtO"
      },
      "source": [
        "For this lab, we are going to be using Python and several Python libraries. Some of these libraries might be installed in your lab environment or in SN Labs. Others may need to be installed by you. The cells below will install these libraries when executed.\n"
      ]
    },
    {
      "cell_type": "code",
      "execution_count": 1,
      "metadata": {
        "id": "shl9V1Z8OwtQ"
      },
      "outputs": [],
      "source": [
        "#!pip install pandas\n",
        "#!pip install requests"
      ]
    },
    {
      "cell_type": "markdown",
      "metadata": {
        "id": "BH3imX1pOwtf"
      },
      "source": [
        "## Imports\n",
        "\n",
        "Import any additional libraries you may need here.\n"
      ]
    },
    {
      "cell_type": "code",
      "execution_count": 2,
      "metadata": {
        "id": "QPiKgS8oOwtk"
      },
      "outputs": [],
      "source": [
        "import requests\n",
        "import pandas as pd"
      ]
    },
    {
      "cell_type": "markdown",
      "metadata": {
        "id": "1rX1l5UAOwto"
      },
      "source": [
        "## Extract Data Using an API\n"
      ]
    },
    {
      "cell_type": "markdown",
      "metadata": {
        "id": "LP_bDMmAOwtt"
      },
      "source": [
        "Using ExchangeRate-API we will extract currency exchange rate data. Use the below steps to get the access key and to get the data.\n",
        "\n",
        "1.  Open the url : [https://exchangeratesapi.io/](https://exchangeratesapi.io/?utm_medium=Exinfluencer&utm_source=Exinfluencer&utm_content=000026UJ&utm_term=10006555&utm_id=NA-SkillsNetwork-Channel-SkillsNetworkCoursesIBMDeveloperSkillsNetworkPY0221ENSkillsNetwork23455645-2021-01-01) and create a free account.\n",
        "2.  Once the account is created. You will get the Get the Free API key option on the top as shown below:\n",
        "\n",
        "<img src=\"https://cf-courses-data.s3.us.cloud-object-storage.appdomain.cloud/IBMDeveloperSkillsNetwork-PY0221EN-SkillsNetwork/labs/module%206/Final%20Assignment/Images/getapi.png\"/>\n",
        "\n",
        "3.  Copy the API key and use in the url in Question 1.\n"
      ]
    },
    {
      "cell_type": "markdown",
      "metadata": {
        "id": "8go1CeCsOwtx"
      },
      "source": [
        "### Call the API\n",
        "\n",
        "<b> Question 1</b> Using the `requests` library call the endpoint given above and save the text, remember the first few characters of the output:\n"
      ]
    },
    {
      "cell_type": "code",
      "execution_count": 3,
      "metadata": {
        "colab": {
          "base_uri": "https://localhost:8080/"
        },
        "id": "fBDcPtgmOwtz",
        "outputId": "db0166e6-ae67-4133-dab6-16a16f9f2941"
      },
      "outputs": [
        {
          "output_type": "stream",
          "name": "stdout",
          "text": [
            "b'{\"success\":true,\"timestamp\":1648417756,\"base\":\"EUR\",\"date\":\"2022-03-27\",\"rates\":{\"AED\":4.033986,\"AFN\":96.760577,\"ALL\":122.015508,\"AMD\":538.261956,\"ANG\":1.985401,\"AOA\":500.397579,\"ARS\":121.900419,\"AUD\":1.46237,\"AWG\":1.977452,\"AZN\":1.870122,\"BAM\":1.955437,\"BBD\":2.224354,\"BDT\":95.043422,\"BGN\":1.95553,\"BHD\":0.415317,\"BIF\":2259.456465,\"BMD\":1.09828,\"BND\":1.4938,\"BOB\":7.57378,\"BRL\":5.204033,\"BSD\":1.101679,\"BTC\":2.3610596e-5,\"BTN\":83.874264,\"BWP\":12.618967,\"BYN\":3.58798,\"BYR\":21526.279084,\"BZD\":2.220554,\"CAD\":1.370944,\"CDF\":2210.836905,\"CHF\":1.022114,\"CLF\":0.031508,\"CLP\":869.409486,\"CNY\":6.991974,\"COP\":4171.862592,\"CRC\":718.525772,\"CUC\":1.09828,\"CUP\":29.104408,\"CVE\":110.242871,\"CZK\":24.615135,\"DJF\":196.120633,\"DKK\":7.438642,\"DOP\":60.413873,\"DZD\":156.498586,\"EGP\":20.384292,\"ERN\":16.474199,\"ETB\":56.568345,\"EUR\":1,\"FJD\":2.287662,\"FKP\":0.842335,\"GBP\":0.833001,\"GEL\":3.524883,\"GGP\":0.842335,\"GHS\":8.06948,\"GIP\":0.842335,\"GMD\":59.411392,\"GNF\":9855.221786,\"GTQ\":8.471,\"GYD\":230.493734,\"HKD\":8.597788,\"HNL\":27.042572,\"HRK\":7.576372,\"HTG\":115.873741,\"HUF\":372.579804,\"IDR\":15768.438741,\"ILS\":3.53108,\"IMP\":0.842335,\"INR\":83.7828,\"IQD\":1607.837263,\"IRR\":46457.224789,\"ISK\":142.600947,\"JEP\":0.842335,\"JMD\":168.803117,\"JOD\":0.778645,\"JPY\":134.028568,\"KES\":126.412526,\"KGS\":104.600582,\"KHR\":4458.305096,\"KMF\":491.864732,\"KPW\":988.451975,\"KRW\":1345.886864,\"KWD\":0.334042,\"KYD\":0.918016,\"KZT\":542.961013,\"LAK\":12842.322193,\"LBP\":1665.865615,\"LKR\":319.466574,\"LRD\":168.09164,\"LSL\":15.979776,\"LTL\":3.242934,\"LVL\":0.664339,\"LYD\":5.140568,\"MAD\":10.669358,\"MDL\":20.187448,\"MGA\":4455.005758,\"MKD\":61.602635,\"MMK\":1958.870501,\"MNT\":3161.697271,\"MOP\":8.881317,\"MRO\":392.085609,\"MUR\":48.810202,\"MVR\":16.907395,\"MWK\":899.985348,\"MXN\":22.000571,\"MYR\":4.624312,\"MZN\":70.103757,\"NAD\":15.979794,\"NGN\":456.609183,\"NIO\":39.400091,\"NOK\":9.463375,\"NPR\":134.199063,\"NZD\":1.579554,\"OMR\":0.422825,\"PAB\":1.101579,\"PEN\":4.117374,\"PGK\":3.881721,\"PHP\":57.231471,\"PKR\":200.745205,\"PLN\":4.687936,\"PYG\":7668.960629,\"QAR\":3.998821,\"RON\":4.949012,\"RSD\":117.626389,\"RUB\":112.024685,\"RWF\":1119.565272,\"SAR\":4.119972,\"SBD\":8.825102,\"SCR\":15.831669,\"SDG\":490.930739,\"SEK\":10.347227,\"SGD\":1.491403,\"SHP\":1.512769,\"SLL\":13020.104068,\"SOS\":642.493142,\"SRD\":22.710197,\"STD\":22732.169166,\"SVC\":9.639065,\"SYP\":2758.878588,\"SZL\":16.050778,\"THB\":36.881876,\"TJS\":14.326724,\"TMT\":3.854961,\"TND\":3.24324,\"TOP\":2.469983,\"TRY\":16.292953,\"TTD\":7.493496,\"TWD\":31.502387,\"TZS\":2555.786983,\"UAH\":32.525771,\"UGX\":3965.903934,\"USD\":1.09828,\"UYU\":46.637639,\"UZS\":12679.314913,\"VEF\":234845359316.5108,\"VND\":25110.514379,\"VUV\":125.331932,\"WST\":2.879739,\"XAF\":655.825358,\"XAG\":0.043041,\"XAU\":0.000561,\"XCD\":2.968155,\"XDR\":0.79934,\"XOF\":655.825358,\"XPF\":119.712552,\"YER\":274.844534,\"ZAR\":15.975261,\"ZMK\":9885.836628,\"ZMW\":19.636658,\"ZWL\":353.645565}}'\n"
          ]
        }
      ],
      "source": [
        "# Write your code here\n",
        "url = \"http://api.exchangeratesapi.io/v1/latest?base=EUR&access_key=e85a0535fbb90ed957531cbc0e556553\"  #Make sure to change ******* to your API key.\n",
        "response = requests.get(url)\n",
        "print(response.content)\n"
      ]
    },
    {
      "cell_type": "markdown",
      "metadata": {
        "id": "gwrEjtvfOwt2"
      },
      "source": [
        "### Save as DataFrame\n",
        "\n",
        "<b> Question 2</b>  Using the data gathered turn it into a `pandas` dataframe. The dataframe should have the Currency as the index and `Rate` as their columns. Make sure to drop unnecessary columns.\n"
      ]
    },
    {
      "cell_type": "code",
      "execution_count": 4,
      "metadata": {
        "colab": {
          "base_uri": "https://localhost:8080/",
          "height": 191
        },
        "id": "6e3ssqStOwt7",
        "outputId": "f35e5731-c934-4a39-f969-f9fb078c9aef"
      },
      "outputs": [
        {
          "output_type": "execute_result",
          "data": {
            "text/plain": [
              "   success   timestamp base        date  rates.AED  rates.AFN   rates.ALL  \\\n",
              "0     True  1648417756  EUR  2022-03-27   4.033986  96.760577  122.015508   \n",
              "\n",
              "    rates.AMD  rates.ANG   rates.AOA  ...  rates.XAU  rates.XCD  rates.XDR  \\\n",
              "0  538.261956   1.985401  500.397579  ...   0.000561   2.968155    0.79934   \n",
              "\n",
              "    rates.XOF   rates.XPF   rates.YER  rates.ZAR    rates.ZMK  rates.ZMW  \\\n",
              "0  655.825358  119.712552  274.844534  15.975261  9885.836628  19.636658   \n",
              "\n",
              "    rates.ZWL  \n",
              "0  353.645565  \n",
              "\n",
              "[1 rows x 172 columns]"
            ],
            "text/html": [
              "\n",
              "  <div id=\"df-7a253719-13ef-4d55-b775-ab89ff603f2c\">\n",
              "    <div class=\"colab-df-container\">\n",
              "      <div>\n",
              "<style scoped>\n",
              "    .dataframe tbody tr th:only-of-type {\n",
              "        vertical-align: middle;\n",
              "    }\n",
              "\n",
              "    .dataframe tbody tr th {\n",
              "        vertical-align: top;\n",
              "    }\n",
              "\n",
              "    .dataframe thead th {\n",
              "        text-align: right;\n",
              "    }\n",
              "</style>\n",
              "<table border=\"1\" class=\"dataframe\">\n",
              "  <thead>\n",
              "    <tr style=\"text-align: right;\">\n",
              "      <th></th>\n",
              "      <th>success</th>\n",
              "      <th>timestamp</th>\n",
              "      <th>base</th>\n",
              "      <th>date</th>\n",
              "      <th>rates.AED</th>\n",
              "      <th>rates.AFN</th>\n",
              "      <th>rates.ALL</th>\n",
              "      <th>rates.AMD</th>\n",
              "      <th>rates.ANG</th>\n",
              "      <th>rates.AOA</th>\n",
              "      <th>...</th>\n",
              "      <th>rates.XAU</th>\n",
              "      <th>rates.XCD</th>\n",
              "      <th>rates.XDR</th>\n",
              "      <th>rates.XOF</th>\n",
              "      <th>rates.XPF</th>\n",
              "      <th>rates.YER</th>\n",
              "      <th>rates.ZAR</th>\n",
              "      <th>rates.ZMK</th>\n",
              "      <th>rates.ZMW</th>\n",
              "      <th>rates.ZWL</th>\n",
              "    </tr>\n",
              "  </thead>\n",
              "  <tbody>\n",
              "    <tr>\n",
              "      <th>0</th>\n",
              "      <td>True</td>\n",
              "      <td>1648417756</td>\n",
              "      <td>EUR</td>\n",
              "      <td>2022-03-27</td>\n",
              "      <td>4.033986</td>\n",
              "      <td>96.760577</td>\n",
              "      <td>122.015508</td>\n",
              "      <td>538.261956</td>\n",
              "      <td>1.985401</td>\n",
              "      <td>500.397579</td>\n",
              "      <td>...</td>\n",
              "      <td>0.000561</td>\n",
              "      <td>2.968155</td>\n",
              "      <td>0.79934</td>\n",
              "      <td>655.825358</td>\n",
              "      <td>119.712552</td>\n",
              "      <td>274.844534</td>\n",
              "      <td>15.975261</td>\n",
              "      <td>9885.836628</td>\n",
              "      <td>19.636658</td>\n",
              "      <td>353.645565</td>\n",
              "    </tr>\n",
              "  </tbody>\n",
              "</table>\n",
              "<p>1 rows × 172 columns</p>\n",
              "</div>\n",
              "      <button class=\"colab-df-convert\" onclick=\"convertToInteractive('df-7a253719-13ef-4d55-b775-ab89ff603f2c')\"\n",
              "              title=\"Convert this dataframe to an interactive table.\"\n",
              "              style=\"display:none;\">\n",
              "        \n",
              "  <svg xmlns=\"http://www.w3.org/2000/svg\" height=\"24px\"viewBox=\"0 0 24 24\"\n",
              "       width=\"24px\">\n",
              "    <path d=\"M0 0h24v24H0V0z\" fill=\"none\"/>\n",
              "    <path d=\"M18.56 5.44l.94 2.06.94-2.06 2.06-.94-2.06-.94-.94-2.06-.94 2.06-2.06.94zm-11 1L8.5 8.5l.94-2.06 2.06-.94-2.06-.94L8.5 2.5l-.94 2.06-2.06.94zm10 10l.94 2.06.94-2.06 2.06-.94-2.06-.94-.94-2.06-.94 2.06-2.06.94z\"/><path d=\"M17.41 7.96l-1.37-1.37c-.4-.4-.92-.59-1.43-.59-.52 0-1.04.2-1.43.59L10.3 9.45l-7.72 7.72c-.78.78-.78 2.05 0 2.83L4 21.41c.39.39.9.59 1.41.59.51 0 1.02-.2 1.41-.59l7.78-7.78 2.81-2.81c.8-.78.8-2.07 0-2.86zM5.41 20L4 18.59l7.72-7.72 1.47 1.35L5.41 20z\"/>\n",
              "  </svg>\n",
              "      </button>\n",
              "      \n",
              "  <style>\n",
              "    .colab-df-container {\n",
              "      display:flex;\n",
              "      flex-wrap:wrap;\n",
              "      gap: 12px;\n",
              "    }\n",
              "\n",
              "    .colab-df-convert {\n",
              "      background-color: #E8F0FE;\n",
              "      border: none;\n",
              "      border-radius: 50%;\n",
              "      cursor: pointer;\n",
              "      display: none;\n",
              "      fill: #1967D2;\n",
              "      height: 32px;\n",
              "      padding: 0 0 0 0;\n",
              "      width: 32px;\n",
              "    }\n",
              "\n",
              "    .colab-df-convert:hover {\n",
              "      background-color: #E2EBFA;\n",
              "      box-shadow: 0px 1px 2px rgba(60, 64, 67, 0.3), 0px 1px 3px 1px rgba(60, 64, 67, 0.15);\n",
              "      fill: #174EA6;\n",
              "    }\n",
              "\n",
              "    [theme=dark] .colab-df-convert {\n",
              "      background-color: #3B4455;\n",
              "      fill: #D2E3FC;\n",
              "    }\n",
              "\n",
              "    [theme=dark] .colab-df-convert:hover {\n",
              "      background-color: #434B5C;\n",
              "      box-shadow: 0px 1px 3px 1px rgba(0, 0, 0, 0.15);\n",
              "      filter: drop-shadow(0px 1px 2px rgba(0, 0, 0, 0.3));\n",
              "      fill: #FFFFFF;\n",
              "    }\n",
              "  </style>\n",
              "\n",
              "      <script>\n",
              "        const buttonEl =\n",
              "          document.querySelector('#df-7a253719-13ef-4d55-b775-ab89ff603f2c button.colab-df-convert');\n",
              "        buttonEl.style.display =\n",
              "          google.colab.kernel.accessAllowed ? 'block' : 'none';\n",
              "\n",
              "        async function convertToInteractive(key) {\n",
              "          const element = document.querySelector('#df-7a253719-13ef-4d55-b775-ab89ff603f2c');\n",
              "          const dataTable =\n",
              "            await google.colab.kernel.invokeFunction('convertToInteractive',\n",
              "                                                     [key], {});\n",
              "          if (!dataTable) return;\n",
              "\n",
              "          const docLinkHtml = 'Like what you see? Visit the ' +\n",
              "            '<a target=\"_blank\" href=https://colab.research.google.com/notebooks/data_table.ipynb>data table notebook</a>'\n",
              "            + ' to learn more about interactive tables.';\n",
              "          element.innerHTML = '';\n",
              "          dataTable['output_type'] = 'display_data';\n",
              "          await google.colab.output.renderOutput(dataTable, element);\n",
              "          const docLink = document.createElement('div');\n",
              "          docLink.innerHTML = docLinkHtml;\n",
              "          element.appendChild(docLink);\n",
              "        }\n",
              "      </script>\n",
              "    </div>\n",
              "  </div>\n",
              "  "
            ]
          },
          "metadata": {},
          "execution_count": 4
        }
      ],
      "source": [
        "# Turn the data into a dataframe\n",
        "d = response.json()\n",
        "data = pd.json_normalize(d)\n",
        "\n",
        "data.head()"
      ]
    },
    {
      "cell_type": "code",
      "execution_count": 5,
      "metadata": {
        "colab": {
          "base_uri": "https://localhost:8080/",
          "height": 423
        },
        "id": "M1Q9eJPBOwt8",
        "outputId": "0443c97a-bff9-413c-f1d9-7962d5468f15"
      },
      "outputs": [
        {
          "output_type": "execute_result",
          "data": {
            "text/plain": [
              "                     0\n",
              "rates.AED     4.033986\n",
              "rates.AFN    96.760577\n",
              "rates.ALL   122.015508\n",
              "rates.AMD   538.261956\n",
              "rates.ANG     1.985401\n",
              "...                ...\n",
              "rates.YER   274.844534\n",
              "rates.ZAR    15.975261\n",
              "rates.ZMK  9885.836628\n",
              "rates.ZMW    19.636658\n",
              "rates.ZWL   353.645565\n",
              "\n",
              "[168 rows x 1 columns]"
            ],
            "text/html": [
              "\n",
              "  <div id=\"df-035ccca7-89f5-4971-89f5-4149d450e093\">\n",
              "    <div class=\"colab-df-container\">\n",
              "      <div>\n",
              "<style scoped>\n",
              "    .dataframe tbody tr th:only-of-type {\n",
              "        vertical-align: middle;\n",
              "    }\n",
              "\n",
              "    .dataframe tbody tr th {\n",
              "        vertical-align: top;\n",
              "    }\n",
              "\n",
              "    .dataframe thead th {\n",
              "        text-align: right;\n",
              "    }\n",
              "</style>\n",
              "<table border=\"1\" class=\"dataframe\">\n",
              "  <thead>\n",
              "    <tr style=\"text-align: right;\">\n",
              "      <th></th>\n",
              "      <th>0</th>\n",
              "    </tr>\n",
              "  </thead>\n",
              "  <tbody>\n",
              "    <tr>\n",
              "      <th>rates.AED</th>\n",
              "      <td>4.033986</td>\n",
              "    </tr>\n",
              "    <tr>\n",
              "      <th>rates.AFN</th>\n",
              "      <td>96.760577</td>\n",
              "    </tr>\n",
              "    <tr>\n",
              "      <th>rates.ALL</th>\n",
              "      <td>122.015508</td>\n",
              "    </tr>\n",
              "    <tr>\n",
              "      <th>rates.AMD</th>\n",
              "      <td>538.261956</td>\n",
              "    </tr>\n",
              "    <tr>\n",
              "      <th>rates.ANG</th>\n",
              "      <td>1.985401</td>\n",
              "    </tr>\n",
              "    <tr>\n",
              "      <th>...</th>\n",
              "      <td>...</td>\n",
              "    </tr>\n",
              "    <tr>\n",
              "      <th>rates.YER</th>\n",
              "      <td>274.844534</td>\n",
              "    </tr>\n",
              "    <tr>\n",
              "      <th>rates.ZAR</th>\n",
              "      <td>15.975261</td>\n",
              "    </tr>\n",
              "    <tr>\n",
              "      <th>rates.ZMK</th>\n",
              "      <td>9885.836628</td>\n",
              "    </tr>\n",
              "    <tr>\n",
              "      <th>rates.ZMW</th>\n",
              "      <td>19.636658</td>\n",
              "    </tr>\n",
              "    <tr>\n",
              "      <th>rates.ZWL</th>\n",
              "      <td>353.645565</td>\n",
              "    </tr>\n",
              "  </tbody>\n",
              "</table>\n",
              "<p>168 rows × 1 columns</p>\n",
              "</div>\n",
              "      <button class=\"colab-df-convert\" onclick=\"convertToInteractive('df-035ccca7-89f5-4971-89f5-4149d450e093')\"\n",
              "              title=\"Convert this dataframe to an interactive table.\"\n",
              "              style=\"display:none;\">\n",
              "        \n",
              "  <svg xmlns=\"http://www.w3.org/2000/svg\" height=\"24px\"viewBox=\"0 0 24 24\"\n",
              "       width=\"24px\">\n",
              "    <path d=\"M0 0h24v24H0V0z\" fill=\"none\"/>\n",
              "    <path d=\"M18.56 5.44l.94 2.06.94-2.06 2.06-.94-2.06-.94-.94-2.06-.94 2.06-2.06.94zm-11 1L8.5 8.5l.94-2.06 2.06-.94-2.06-.94L8.5 2.5l-.94 2.06-2.06.94zm10 10l.94 2.06.94-2.06 2.06-.94-2.06-.94-.94-2.06-.94 2.06-2.06.94z\"/><path d=\"M17.41 7.96l-1.37-1.37c-.4-.4-.92-.59-1.43-.59-.52 0-1.04.2-1.43.59L10.3 9.45l-7.72 7.72c-.78.78-.78 2.05 0 2.83L4 21.41c.39.39.9.59 1.41.59.51 0 1.02-.2 1.41-.59l7.78-7.78 2.81-2.81c.8-.78.8-2.07 0-2.86zM5.41 20L4 18.59l7.72-7.72 1.47 1.35L5.41 20z\"/>\n",
              "  </svg>\n",
              "      </button>\n",
              "      \n",
              "  <style>\n",
              "    .colab-df-container {\n",
              "      display:flex;\n",
              "      flex-wrap:wrap;\n",
              "      gap: 12px;\n",
              "    }\n",
              "\n",
              "    .colab-df-convert {\n",
              "      background-color: #E8F0FE;\n",
              "      border: none;\n",
              "      border-radius: 50%;\n",
              "      cursor: pointer;\n",
              "      display: none;\n",
              "      fill: #1967D2;\n",
              "      height: 32px;\n",
              "      padding: 0 0 0 0;\n",
              "      width: 32px;\n",
              "    }\n",
              "\n",
              "    .colab-df-convert:hover {\n",
              "      background-color: #E2EBFA;\n",
              "      box-shadow: 0px 1px 2px rgba(60, 64, 67, 0.3), 0px 1px 3px 1px rgba(60, 64, 67, 0.15);\n",
              "      fill: #174EA6;\n",
              "    }\n",
              "\n",
              "    [theme=dark] .colab-df-convert {\n",
              "      background-color: #3B4455;\n",
              "      fill: #D2E3FC;\n",
              "    }\n",
              "\n",
              "    [theme=dark] .colab-df-convert:hover {\n",
              "      background-color: #434B5C;\n",
              "      box-shadow: 0px 1px 3px 1px rgba(0, 0, 0, 0.15);\n",
              "      filter: drop-shadow(0px 1px 2px rgba(0, 0, 0, 0.3));\n",
              "      fill: #FFFFFF;\n",
              "    }\n",
              "  </style>\n",
              "\n",
              "      <script>\n",
              "        const buttonEl =\n",
              "          document.querySelector('#df-035ccca7-89f5-4971-89f5-4149d450e093 button.colab-df-convert');\n",
              "        buttonEl.style.display =\n",
              "          google.colab.kernel.accessAllowed ? 'block' : 'none';\n",
              "\n",
              "        async function convertToInteractive(key) {\n",
              "          const element = document.querySelector('#df-035ccca7-89f5-4971-89f5-4149d450e093');\n",
              "          const dataTable =\n",
              "            await google.colab.kernel.invokeFunction('convertToInteractive',\n",
              "                                                     [key], {});\n",
              "          if (!dataTable) return;\n",
              "\n",
              "          const docLinkHtml = 'Like what you see? Visit the ' +\n",
              "            '<a target=\"_blank\" href=https://colab.research.google.com/notebooks/data_table.ipynb>data table notebook</a>'\n",
              "            + ' to learn more about interactive tables.';\n",
              "          element.innerHTML = '';\n",
              "          dataTable['output_type'] = 'display_data';\n",
              "          await google.colab.output.renderOutput(dataTable, element);\n",
              "          const docLink = document.createElement('div');\n",
              "          docLink.innerHTML = docLinkHtml;\n",
              "          element.appendChild(docLink);\n",
              "        }\n",
              "      </script>\n",
              "    </div>\n",
              "  </div>\n",
              "  "
            ]
          },
          "metadata": {},
          "execution_count": 5
        }
      ],
      "source": [
        "# Drop unnescessary columns\n",
        "data.drop(columns=['success','timestamp', 'base', 'date'], inplace=True)\n",
        "data = data.transpose()\n",
        "data"
      ]
    },
    {
      "cell_type": "code",
      "source": [
        "data.reset_index(inplace=True)\n",
        "data.replace(to_replace=r'rates.', value='', regex=True, inplace=True)\n",
        "data"
      ],
      "metadata": {
        "colab": {
          "base_uri": "https://localhost:8080/",
          "height": 423
        },
        "id": "dhQ4VynmVTrW",
        "outputId": "fef907f9-02eb-414e-a7fa-f21e6e0640ee"
      },
      "execution_count": 6,
      "outputs": [
        {
          "output_type": "execute_result",
          "data": {
            "text/plain": [
              "    index            0\n",
              "0     AED     4.033986\n",
              "1     AFN    96.760577\n",
              "2     ALL   122.015508\n",
              "3     AMD   538.261956\n",
              "4     ANG     1.985401\n",
              "..    ...          ...\n",
              "163   YER   274.844534\n",
              "164   ZAR    15.975261\n",
              "165   ZMK  9885.836628\n",
              "166   ZMW    19.636658\n",
              "167   ZWL   353.645565\n",
              "\n",
              "[168 rows x 2 columns]"
            ],
            "text/html": [
              "\n",
              "  <div id=\"df-09c10eec-7de5-497c-bdfc-3bc72bda4046\">\n",
              "    <div class=\"colab-df-container\">\n",
              "      <div>\n",
              "<style scoped>\n",
              "    .dataframe tbody tr th:only-of-type {\n",
              "        vertical-align: middle;\n",
              "    }\n",
              "\n",
              "    .dataframe tbody tr th {\n",
              "        vertical-align: top;\n",
              "    }\n",
              "\n",
              "    .dataframe thead th {\n",
              "        text-align: right;\n",
              "    }\n",
              "</style>\n",
              "<table border=\"1\" class=\"dataframe\">\n",
              "  <thead>\n",
              "    <tr style=\"text-align: right;\">\n",
              "      <th></th>\n",
              "      <th>index</th>\n",
              "      <th>0</th>\n",
              "    </tr>\n",
              "  </thead>\n",
              "  <tbody>\n",
              "    <tr>\n",
              "      <th>0</th>\n",
              "      <td>AED</td>\n",
              "      <td>4.033986</td>\n",
              "    </tr>\n",
              "    <tr>\n",
              "      <th>1</th>\n",
              "      <td>AFN</td>\n",
              "      <td>96.760577</td>\n",
              "    </tr>\n",
              "    <tr>\n",
              "      <th>2</th>\n",
              "      <td>ALL</td>\n",
              "      <td>122.015508</td>\n",
              "    </tr>\n",
              "    <tr>\n",
              "      <th>3</th>\n",
              "      <td>AMD</td>\n",
              "      <td>538.261956</td>\n",
              "    </tr>\n",
              "    <tr>\n",
              "      <th>4</th>\n",
              "      <td>ANG</td>\n",
              "      <td>1.985401</td>\n",
              "    </tr>\n",
              "    <tr>\n",
              "      <th>...</th>\n",
              "      <td>...</td>\n",
              "      <td>...</td>\n",
              "    </tr>\n",
              "    <tr>\n",
              "      <th>163</th>\n",
              "      <td>YER</td>\n",
              "      <td>274.844534</td>\n",
              "    </tr>\n",
              "    <tr>\n",
              "      <th>164</th>\n",
              "      <td>ZAR</td>\n",
              "      <td>15.975261</td>\n",
              "    </tr>\n",
              "    <tr>\n",
              "      <th>165</th>\n",
              "      <td>ZMK</td>\n",
              "      <td>9885.836628</td>\n",
              "    </tr>\n",
              "    <tr>\n",
              "      <th>166</th>\n",
              "      <td>ZMW</td>\n",
              "      <td>19.636658</td>\n",
              "    </tr>\n",
              "    <tr>\n",
              "      <th>167</th>\n",
              "      <td>ZWL</td>\n",
              "      <td>353.645565</td>\n",
              "    </tr>\n",
              "  </tbody>\n",
              "</table>\n",
              "<p>168 rows × 2 columns</p>\n",
              "</div>\n",
              "      <button class=\"colab-df-convert\" onclick=\"convertToInteractive('df-09c10eec-7de5-497c-bdfc-3bc72bda4046')\"\n",
              "              title=\"Convert this dataframe to an interactive table.\"\n",
              "              style=\"display:none;\">\n",
              "        \n",
              "  <svg xmlns=\"http://www.w3.org/2000/svg\" height=\"24px\"viewBox=\"0 0 24 24\"\n",
              "       width=\"24px\">\n",
              "    <path d=\"M0 0h24v24H0V0z\" fill=\"none\"/>\n",
              "    <path d=\"M18.56 5.44l.94 2.06.94-2.06 2.06-.94-2.06-.94-.94-2.06-.94 2.06-2.06.94zm-11 1L8.5 8.5l.94-2.06 2.06-.94-2.06-.94L8.5 2.5l-.94 2.06-2.06.94zm10 10l.94 2.06.94-2.06 2.06-.94-2.06-.94-.94-2.06-.94 2.06-2.06.94z\"/><path d=\"M17.41 7.96l-1.37-1.37c-.4-.4-.92-.59-1.43-.59-.52 0-1.04.2-1.43.59L10.3 9.45l-7.72 7.72c-.78.78-.78 2.05 0 2.83L4 21.41c.39.39.9.59 1.41.59.51 0 1.02-.2 1.41-.59l7.78-7.78 2.81-2.81c.8-.78.8-2.07 0-2.86zM5.41 20L4 18.59l7.72-7.72 1.47 1.35L5.41 20z\"/>\n",
              "  </svg>\n",
              "      </button>\n",
              "      \n",
              "  <style>\n",
              "    .colab-df-container {\n",
              "      display:flex;\n",
              "      flex-wrap:wrap;\n",
              "      gap: 12px;\n",
              "    }\n",
              "\n",
              "    .colab-df-convert {\n",
              "      background-color: #E8F0FE;\n",
              "      border: none;\n",
              "      border-radius: 50%;\n",
              "      cursor: pointer;\n",
              "      display: none;\n",
              "      fill: #1967D2;\n",
              "      height: 32px;\n",
              "      padding: 0 0 0 0;\n",
              "      width: 32px;\n",
              "    }\n",
              "\n",
              "    .colab-df-convert:hover {\n",
              "      background-color: #E2EBFA;\n",
              "      box-shadow: 0px 1px 2px rgba(60, 64, 67, 0.3), 0px 1px 3px 1px rgba(60, 64, 67, 0.15);\n",
              "      fill: #174EA6;\n",
              "    }\n",
              "\n",
              "    [theme=dark] .colab-df-convert {\n",
              "      background-color: #3B4455;\n",
              "      fill: #D2E3FC;\n",
              "    }\n",
              "\n",
              "    [theme=dark] .colab-df-convert:hover {\n",
              "      background-color: #434B5C;\n",
              "      box-shadow: 0px 1px 3px 1px rgba(0, 0, 0, 0.15);\n",
              "      filter: drop-shadow(0px 1px 2px rgba(0, 0, 0, 0.3));\n",
              "      fill: #FFFFFF;\n",
              "    }\n",
              "  </style>\n",
              "\n",
              "      <script>\n",
              "        const buttonEl =\n",
              "          document.querySelector('#df-09c10eec-7de5-497c-bdfc-3bc72bda4046 button.colab-df-convert');\n",
              "        buttonEl.style.display =\n",
              "          google.colab.kernel.accessAllowed ? 'block' : 'none';\n",
              "\n",
              "        async function convertToInteractive(key) {\n",
              "          const element = document.querySelector('#df-09c10eec-7de5-497c-bdfc-3bc72bda4046');\n",
              "          const dataTable =\n",
              "            await google.colab.kernel.invokeFunction('convertToInteractive',\n",
              "                                                     [key], {});\n",
              "          if (!dataTable) return;\n",
              "\n",
              "          const docLinkHtml = 'Like what you see? Visit the ' +\n",
              "            '<a target=\"_blank\" href=https://colab.research.google.com/notebooks/data_table.ipynb>data table notebook</a>'\n",
              "            + ' to learn more about interactive tables.';\n",
              "          element.innerHTML = '';\n",
              "          dataTable['output_type'] = 'display_data';\n",
              "          await google.colab.output.renderOutput(dataTable, element);\n",
              "          const docLink = document.createElement('div');\n",
              "          docLink.innerHTML = docLinkHtml;\n",
              "          element.appendChild(docLink);\n",
              "        }\n",
              "      </script>\n",
              "    </div>\n",
              "  </div>\n",
              "  "
            ]
          },
          "metadata": {},
          "execution_count": 6
        }
      ]
    },
    {
      "cell_type": "code",
      "source": [
        "\n",
        "data.rename(columns={'index':'Currency', 0:'Rates'}, inplace=True)\n",
        "data.set_index('Currency', inplace=True)\n",
        "#data.rename(columns={0:'Rates'}, index={'index':'Currency'}, inplace=True)\n",
        "data"
      ],
      "metadata": {
        "colab": {
          "base_uri": "https://localhost:8080/",
          "height": 455
        },
        "id": "MN_GrbcKX6tL",
        "outputId": "fd22e18a-d8dc-4d11-bcfe-7e9eccf60bc1"
      },
      "execution_count": 7,
      "outputs": [
        {
          "output_type": "execute_result",
          "data": {
            "text/plain": [
              "                Rates\n",
              "Currency             \n",
              "AED          4.033986\n",
              "AFN         96.760577\n",
              "ALL        122.015508\n",
              "AMD        538.261956\n",
              "ANG          1.985401\n",
              "...               ...\n",
              "YER        274.844534\n",
              "ZAR         15.975261\n",
              "ZMK       9885.836628\n",
              "ZMW         19.636658\n",
              "ZWL        353.645565\n",
              "\n",
              "[168 rows x 1 columns]"
            ],
            "text/html": [
              "\n",
              "  <div id=\"df-b25c0307-f812-4d0a-94b1-65ce8f91a899\">\n",
              "    <div class=\"colab-df-container\">\n",
              "      <div>\n",
              "<style scoped>\n",
              "    .dataframe tbody tr th:only-of-type {\n",
              "        vertical-align: middle;\n",
              "    }\n",
              "\n",
              "    .dataframe tbody tr th {\n",
              "        vertical-align: top;\n",
              "    }\n",
              "\n",
              "    .dataframe thead th {\n",
              "        text-align: right;\n",
              "    }\n",
              "</style>\n",
              "<table border=\"1\" class=\"dataframe\">\n",
              "  <thead>\n",
              "    <tr style=\"text-align: right;\">\n",
              "      <th></th>\n",
              "      <th>Rates</th>\n",
              "    </tr>\n",
              "    <tr>\n",
              "      <th>Currency</th>\n",
              "      <th></th>\n",
              "    </tr>\n",
              "  </thead>\n",
              "  <tbody>\n",
              "    <tr>\n",
              "      <th>AED</th>\n",
              "      <td>4.033986</td>\n",
              "    </tr>\n",
              "    <tr>\n",
              "      <th>AFN</th>\n",
              "      <td>96.760577</td>\n",
              "    </tr>\n",
              "    <tr>\n",
              "      <th>ALL</th>\n",
              "      <td>122.015508</td>\n",
              "    </tr>\n",
              "    <tr>\n",
              "      <th>AMD</th>\n",
              "      <td>538.261956</td>\n",
              "    </tr>\n",
              "    <tr>\n",
              "      <th>ANG</th>\n",
              "      <td>1.985401</td>\n",
              "    </tr>\n",
              "    <tr>\n",
              "      <th>...</th>\n",
              "      <td>...</td>\n",
              "    </tr>\n",
              "    <tr>\n",
              "      <th>YER</th>\n",
              "      <td>274.844534</td>\n",
              "    </tr>\n",
              "    <tr>\n",
              "      <th>ZAR</th>\n",
              "      <td>15.975261</td>\n",
              "    </tr>\n",
              "    <tr>\n",
              "      <th>ZMK</th>\n",
              "      <td>9885.836628</td>\n",
              "    </tr>\n",
              "    <tr>\n",
              "      <th>ZMW</th>\n",
              "      <td>19.636658</td>\n",
              "    </tr>\n",
              "    <tr>\n",
              "      <th>ZWL</th>\n",
              "      <td>353.645565</td>\n",
              "    </tr>\n",
              "  </tbody>\n",
              "</table>\n",
              "<p>168 rows × 1 columns</p>\n",
              "</div>\n",
              "      <button class=\"colab-df-convert\" onclick=\"convertToInteractive('df-b25c0307-f812-4d0a-94b1-65ce8f91a899')\"\n",
              "              title=\"Convert this dataframe to an interactive table.\"\n",
              "              style=\"display:none;\">\n",
              "        \n",
              "  <svg xmlns=\"http://www.w3.org/2000/svg\" height=\"24px\"viewBox=\"0 0 24 24\"\n",
              "       width=\"24px\">\n",
              "    <path d=\"M0 0h24v24H0V0z\" fill=\"none\"/>\n",
              "    <path d=\"M18.56 5.44l.94 2.06.94-2.06 2.06-.94-2.06-.94-.94-2.06-.94 2.06-2.06.94zm-11 1L8.5 8.5l.94-2.06 2.06-.94-2.06-.94L8.5 2.5l-.94 2.06-2.06.94zm10 10l.94 2.06.94-2.06 2.06-.94-2.06-.94-.94-2.06-.94 2.06-2.06.94z\"/><path d=\"M17.41 7.96l-1.37-1.37c-.4-.4-.92-.59-1.43-.59-.52 0-1.04.2-1.43.59L10.3 9.45l-7.72 7.72c-.78.78-.78 2.05 0 2.83L4 21.41c.39.39.9.59 1.41.59.51 0 1.02-.2 1.41-.59l7.78-7.78 2.81-2.81c.8-.78.8-2.07 0-2.86zM5.41 20L4 18.59l7.72-7.72 1.47 1.35L5.41 20z\"/>\n",
              "  </svg>\n",
              "      </button>\n",
              "      \n",
              "  <style>\n",
              "    .colab-df-container {\n",
              "      display:flex;\n",
              "      flex-wrap:wrap;\n",
              "      gap: 12px;\n",
              "    }\n",
              "\n",
              "    .colab-df-convert {\n",
              "      background-color: #E8F0FE;\n",
              "      border: none;\n",
              "      border-radius: 50%;\n",
              "      cursor: pointer;\n",
              "      display: none;\n",
              "      fill: #1967D2;\n",
              "      height: 32px;\n",
              "      padding: 0 0 0 0;\n",
              "      width: 32px;\n",
              "    }\n",
              "\n",
              "    .colab-df-convert:hover {\n",
              "      background-color: #E2EBFA;\n",
              "      box-shadow: 0px 1px 2px rgba(60, 64, 67, 0.3), 0px 1px 3px 1px rgba(60, 64, 67, 0.15);\n",
              "      fill: #174EA6;\n",
              "    }\n",
              "\n",
              "    [theme=dark] .colab-df-convert {\n",
              "      background-color: #3B4455;\n",
              "      fill: #D2E3FC;\n",
              "    }\n",
              "\n",
              "    [theme=dark] .colab-df-convert:hover {\n",
              "      background-color: #434B5C;\n",
              "      box-shadow: 0px 1px 3px 1px rgba(0, 0, 0, 0.15);\n",
              "      filter: drop-shadow(0px 1px 2px rgba(0, 0, 0, 0.3));\n",
              "      fill: #FFFFFF;\n",
              "    }\n",
              "  </style>\n",
              "\n",
              "      <script>\n",
              "        const buttonEl =\n",
              "          document.querySelector('#df-b25c0307-f812-4d0a-94b1-65ce8f91a899 button.colab-df-convert');\n",
              "        buttonEl.style.display =\n",
              "          google.colab.kernel.accessAllowed ? 'block' : 'none';\n",
              "\n",
              "        async function convertToInteractive(key) {\n",
              "          const element = document.querySelector('#df-b25c0307-f812-4d0a-94b1-65ce8f91a899');\n",
              "          const dataTable =\n",
              "            await google.colab.kernel.invokeFunction('convertToInteractive',\n",
              "                                                     [key], {});\n",
              "          if (!dataTable) return;\n",
              "\n",
              "          const docLinkHtml = 'Like what you see? Visit the ' +\n",
              "            '<a target=\"_blank\" href=https://colab.research.google.com/notebooks/data_table.ipynb>data table notebook</a>'\n",
              "            + ' to learn more about interactive tables.';\n",
              "          element.innerHTML = '';\n",
              "          dataTable['output_type'] = 'display_data';\n",
              "          await google.colab.output.renderOutput(dataTable, element);\n",
              "          const docLink = document.createElement('div');\n",
              "          docLink.innerHTML = docLinkHtml;\n",
              "          element.appendChild(docLink);\n",
              "        }\n",
              "      </script>\n",
              "    </div>\n",
              "  </div>\n",
              "  "
            ]
          },
          "metadata": {},
          "execution_count": 7
        }
      ]
    },
    {
      "cell_type": "markdown",
      "metadata": {
        "id": "fLS4Wl9UOwt9"
      },
      "source": [
        "### Load the Data\n",
        "\n",
        "Using the dataframe save it as a CSV names `exchange_rates_1.csv`.\n"
      ]
    },
    {
      "cell_type": "code",
      "source": [
        "data.to_csv('exchange_rates_1.csv')"
      ],
      "metadata": {
        "id": "bkHouon4X0KL"
      },
      "execution_count": 8,
      "outputs": []
    },
    {
      "cell_type": "markdown",
      "metadata": {
        "id": "r7ybuZwWOwuB"
      },
      "source": [
        "Your CSV should be in this format with more currencies\n",
        "\n",
        "|     | Rates      |\n",
        "| --- | ---------- |\n",
        "| AED | 4.398618   |\n",
        "| AFN | 92.917693  |\n",
        "| ALL | 123.099093 |\n",
        "| AMD | 621.935674 |\n",
        "| ANG | 2.149648   |\n"
      ]
    },
    {
      "cell_type": "markdown",
      "metadata": {
        "id": "E23t75cXOwuD"
      },
      "source": [
        "## Authors\n"
      ]
    },
    {
      "cell_type": "markdown",
      "metadata": {
        "id": "TKgc2dUGOwuG"
      },
      "source": [
        "Ramesh Sannareddy, Joseph Santarcangelo and Azim Hirjani\n"
      ]
    },
    {
      "cell_type": "markdown",
      "metadata": {
        "id": "HHcyrAfaOwuH"
      },
      "source": [
        "### Other Contributors\n"
      ]
    },
    {
      "cell_type": "markdown",
      "metadata": {
        "id": "LjpbKWkfOwuJ"
      },
      "source": [
        "Rav Ahuja\n"
      ]
    },
    {
      "cell_type": "markdown",
      "metadata": {
        "id": "ELpv-ewgOwuL"
      },
      "source": [
        "## Change Log\n"
      ]
    },
    {
      "cell_type": "markdown",
      "metadata": {
        "id": "0TRtEh1aOwuN"
      },
      "source": [
        "| Date (YYYY-MM-DD) | Version | Changed By        | Change Description                 |\n",
        "| ----------------- | ------- | ----------------- | ---------------------------------- |\n",
        "| 2021-04-15        | 0.2     | Malika            | Updated the lab from USD to EUR    |\n",
        "| 2020-11-25        | 0.1     | Ramesh Sannareddy | Created initial version of the lab |\n"
      ]
    },
    {
      "cell_type": "markdown",
      "metadata": {
        "id": "UAeUE6iXOwuS"
      },
      "source": [
        "Copyright © 2020 IBM Corporation. This notebook and its source code are released under the terms of the [MIT License](https://cognitiveclass.ai/mit-license?utm_medium=Exinfluencer&utm_source=Exinfluencer&utm_content=000026UJ&utm_term=10006555&utm_id=NA-SkillsNetwork-Channel-SkillsNetworkCoursesIBMDeveloperSkillsNetworkPY0221ENSkillsNetwork23455645-2021-01-01&cm_mmc=Email_Newsletter-\\_-Developer_Ed%2BTech-\\_-WW_WW-\\_-SkillsNetwork-Courses-IBM-DA0321EN-SkillsNetwork-21426264&cm_mmca1=000026UJ&cm_mmca2=10006555&cm_mmca3=M12345678&cvosrc=email.Newsletter.M12345678&cvo_campaign=000026UJ).\n"
      ]
    }
  ],
  "metadata": {
    "kernelspec": {
      "display_name": "Python 3",
      "language": "python",
      "name": "python3"
    },
    "language_info": {
      "codemirror_mode": {
        "name": "ipython",
        "version": 3
      },
      "file_extension": ".py",
      "mimetype": "text/x-python",
      "name": "python",
      "nbconvert_exporter": "python",
      "pygments_lexer": "ipython3",
      "version": "3.7.6"
    },
    "colab": {
      "name": "API_Engineer_Peer_Review_Assignment_Extract.ipynb",
      "provenance": [],
      "include_colab_link": true
    }
  },
  "nbformat": 4,
  "nbformat_minor": 0
}
